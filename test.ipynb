{
 "cells": [
  {
   "cell_type": "code",
   "execution_count": 4,
   "metadata": {
    "tags": []
   },
   "outputs": [
    {
     "output_type": "stream",
     "name": "stdout",
     "text": "toric 3x3 surface with perfect_measurements\ntoric 3x3 surface with faulty_measurements\nplanar 3x3 surface with perfect_measurements\nplanar 3x3 surface with faulty_measurements\n"
    }
   ],
   "source": [
    "import opensurfacesim\n",
    "\n",
    "toric_pm =  simulator.graph.toric.perfect_measurements(3, phaseflip=0)\n",
    "plana_pm = simulator.graph.planar.perfect_measurements(3, phaseflip=0)\n",
    "toric_fm =   simulator.graph.toric.faulty_measurements(3, phaseflip=0)\n",
    "plana_fm =  simulator.graph.planar.faulty_measurements(3, phaseflip=0)\n",
    "print(toric_pm)\n",
    "print(toric_fm)\n",
    "print(plana_pm)\n",
    "print(plana_fm)"
   ]
  },
  {
   "cell_type": "code",
   "execution_count": 5,
   "metadata": {},
   "outputs": [
    {
     "output_type": "execute_result",
     "data": {
      "text/plain": "{0: {(0, 0): bstar(0,0|0),\n  (3, 0): bstar(3,0|0),\n  (0, 1): bstar(0,1|0),\n  (3, 1): bstar(3,1|0),\n  (0, 2): bstar(0,2|0),\n  (3, 2): bstar(3,2|0)}}"
     },
     "metadata": {},
     "execution_count": 5
    }
   ],
   "source": [
    "plana_pm.BQ"
   ]
  },
  {
   "cell_type": "code",
   "execution_count": 6,
   "metadata": {},
   "outputs": [
    {
     "output_type": "error",
     "ename": "NameError",
     "evalue": "name 'toric_pm2' is not defined",
     "traceback": [
      "\u001b[0;31m---------------------------------------------------------------------------\u001b[0m",
      "\u001b[0;31mNameError\u001b[0m                                 Traceback (most recent call last)",
      "\u001b[0;32m<ipython-input-6-c158d0aa0259>\u001b[0m in \u001b[0;36m<module>\u001b[0;34m\u001b[0m\n\u001b[0;32m----> 1\u001b[0;31m \u001b[0mtoric_pm2\u001b[0m\u001b[0;34m.\u001b[0m\u001b[0mmeasure_parity\u001b[0m\u001b[0;34m(\u001b[0m\u001b[0;34m)\u001b[0m\u001b[0;34m\u001b[0m\u001b[0;34m\u001b[0m\u001b[0m\n\u001b[0m\u001b[1;32m      2\u001b[0m \u001b[0mtoric_pm2\u001b[0m\u001b[0;34m.\u001b[0m\u001b[0mlogical_error\u001b[0m\u001b[0;34m(\u001b[0m\u001b[0;34m)\u001b[0m\u001b[0;34m\u001b[0m\u001b[0;34m\u001b[0m\u001b[0m\n",
      "\u001b[0;31mNameError\u001b[0m: name 'toric_pm2' is not defined"
     ]
    }
   ],
   "source": [
    "toric_pm.measure_parity()\n",
    "toric_pm.logical_error()"
   ]
  },
  {
   "cell_type": "code",
   "execution_count": 2,
   "metadata": {},
   "outputs": [
    {
     "output_type": "execute_result",
     "data": {
      "text/plain": "[1, 0, 0, 0]"
     },
     "metadata": {},
     "execution_count": 2
    }
   ],
   "source": [
    "len = a = [0]*4\n",
    "len[0] = 1\n",
    "a"
   ]
  },
  {
   "cell_type": "code",
   "execution_count": null,
   "metadata": {},
   "outputs": [],
   "source": []
  }
 ],
 "metadata": {
  "language_info": {
   "codemirror_mode": {
    "name": "ipython",
    "version": 3
   },
   "file_extension": ".py",
   "mimetype": "text/x-python",
   "name": "python",
   "nbconvert_exporter": "python",
   "pygments_lexer": "ipython3",
   "version": "3.8.2-final"
  },
  "orig_nbformat": 2,
  "kernelspec": {
   "name": "python38264bite88ae682759949ac998ed6bf90d955b9",
   "display_name": "Python 3.8.2 64-bit"
  }
 },
 "nbformat": 4,
 "nbformat_minor": 2
}