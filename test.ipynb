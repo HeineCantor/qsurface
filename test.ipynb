{
 "cells": [
  {
   "cell_type": "code",
   "execution_count": 1,
   "metadata": {},
   "outputs": [],
   "source": [
    "import simulator\n",
    "\n",
    "toric_graph = simulator.graph.toric.perfect_measurements(4)\n",
    "planar_graph = simulator.graph.planar.perfect_measurements(4)\n"
   ]
  },
  {
   "cell_type": "code",
   "execution_count": 2,
   "metadata": {
    "tags": []
   },
   "outputs": [
    {
     "output_type": "stream",
     "name": "stdout",
     "text": "toric 4x4 graph with perfect_measurements\nplanar 4x4 graph with perfect_measurements\n"
    }
   ],
   "source": [
    "print(toric_graph)\n",
    "print(planar_graph)"
   ]
  },
  {
   "cell_type": "code",
   "execution_count": 3,
   "metadata": {},
   "outputs": [
    {
     "output_type": "execute_result",
     "data": {
      "text/plain": "{0: {(0, 0): bound(0,0|0),\n  (4, 0): bound(4,0|0),\n  (0.5, -0.5): bound(0.5,-0.5|0),\n  (0.5, 3.5): bound(0.5,3.5|0),\n  (0, 1): bound(0,1|0),\n  (4, 1): bound(4,1|0),\n  (1.5, -0.5): bound(1.5,-0.5|0),\n  (1.5, 3.5): bound(1.5,3.5|0),\n  (0, 2): bound(0,2|0),\n  (4, 2): bound(4,2|0),\n  (2.5, -0.5): bound(2.5,-0.5|0),\n  (2.5, 3.5): bound(2.5,3.5|0),\n  (0, 3): bound(0,3|0),\n  (4, 3): bound(4,3|0),\n  (3.5, -0.5): bound(3.5,-0.5|0),\n  (3.5, 3.5): bound(3.5,3.5|0)}}"
     },
     "metadata": {},
     "execution_count": 3
    }
   ],
   "source": [
    "planar_graph.BQ"
   ]
  },
  {
   "cell_type": "code",
   "execution_count": null,
   "metadata": {},
   "outputs": [],
   "source": []
  }
 ],
 "metadata": {
  "language_info": {
   "codemirror_mode": {
    "name": "ipython",
    "version": 3
   },
   "file_extension": ".py",
   "mimetype": "text/x-python",
   "name": "python",
   "nbconvert_exporter": "python",
   "pygments_lexer": "ipython3",
   "version": "3.8.2-final"
  },
  "orig_nbformat": 2,
  "kernelspec": {
   "name": "python38264bite88ae682759949ac998ed6bf90d955b9",
   "display_name": "Python 3.8.2 64-bit"
  }
 },
 "nbformat": 4,
 "nbformat_minor": 2
}